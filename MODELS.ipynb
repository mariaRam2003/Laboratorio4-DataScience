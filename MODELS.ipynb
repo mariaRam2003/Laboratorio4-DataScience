{
 "cells": [
  {
   "cell_type": "markdown",
   "metadata": {},
   "source": [
    "# Laboratorio #4 Modelos\n",
    "Data Science - Universidad del Valle\n",
    "\n",
    "- Maria Marta Ramirez 21342\n",
    "- Gustavo Andres Gonzales 21438\n",
    "---------------------------------------------------------------------------------------------"
   ]
  },
  {
   "cell_type": "markdown",
   "metadata": {},
   "source": [
    "Importaciones"
   ]
  },
  {
   "cell_type": "code",
   "execution_count": 60,
   "metadata": {},
   "outputs": [],
   "source": [
    "import opendatasets as od\n",
    "import pandas as pd\n",
    "import os\n",
    "import zipfile\n",
    "import matplotlib.pyplot as plt\n",
    "from matplotlib.image import imread\n",
    "import random\n",
    "import shutil\n",
    "import numpy as np\n",
    "\n",
    "\n",
    "from os import listdir\n",
    "import shutil\n",
    "import numpy as np\n",
    "import keras.preprocessing.image as kerasImg\n",
    "import keras.layers\n",
    "import keras.models\n",
    "import keras.optimizers\n",
    "from tensorflow.keras.preprocessing.image import ImageDataGenerator\n",
    "from keras.layers import Conv2D, MaxPooling2D, Flatten, Dense, Dropout\n",
    "from keras.models import Sequential\n",
    "from keras.optimizers import Adam\n",
    "from tensorflow.keras.callbacks import EarlyStopping\n",
    "from tensorflow.keras.callbacks import EarlyStopping\n",
    "from tensorflow.keras.applications import VGG16 \n",
    "from sklearn.svm import SVC\n",
    "from sklearn.preprocessing import StandardScaler\n",
    "from sklearn.metrics import accuracy_score\n",
    "from sklearn.pipeline import make_pipeline"
   ]
  },
  {
   "cell_type": "markdown",
   "metadata": {},
   "source": [
    "Cargar data"
   ]
  },
  {
   "cell_type": "code",
   "execution_count": 2,
   "metadata": {},
   "outputs": [],
   "source": [
    "folder = 'data/'"
   ]
  },
  {
   "cell_type": "markdown",
   "metadata": {},
   "source": [
    "Se estara reduciendo el dataset, ya que son demasiados datos.\n",
    "*Note* Previamente se intentó hacer uso de CUDA para el entrenamiento y aún asi los datos eran demasiados.\n",
    "- Se tomará una muestra del 5% de los datos."
   ]
  },
  {
   "cell_type": "code",
   "execution_count": 26,
   "metadata": {},
   "outputs": [],
   "source": [
    "# Función para reducir el dataset\n",
    "def reducir_dataset(original_dir, destino_dir, fraccion=0.1):\n",
    "    if not os.path.exists(destino_dir):\n",
    "        os.makedirs(destino_dir)\n",
    "\n",
    "    clases = os.listdir(original_dir)\n",
    "    for clase in clases:\n",
    "        ruta_clase = os.path.join(original_dir, clase)\n",
    "        if os.path.isdir(ruta_clase):\n",
    "            imagenes = os.listdir(ruta_clase)\n",
    "            random.shuffle(imagenes)\n",
    "            num_imagenes = int(len(imagenes) * fraccion)\n",
    "            seleccionadas = imagenes[:num_imagenes]\n",
    "            nueva_ruta_clase = os.path.join(destino_dir, clase)\n",
    "            os.makedirs(nueva_ruta_clase, exist_ok=True)\n",
    "            for img in seleccionadas:\n",
    "                shutil.copy(os.path.join(ruta_clase, img), nueva_ruta_clase)\n",
    "\n",
    "# Parámetros para la reducción del dataset\n",
    "original_train_dir = folder + 'train/'\n",
    "reducido_train_dir = folder + 'train_reducido/'\n",
    "original_test_dir = folder + 'test/'\n",
    "reducido_test_dir = folder + 'test_reducido/'\n",
    "# 3% los datos\n",
    "fraccion = 0.03\n",
    "\n",
    "# Reducir datasets\n",
    "reducir_dataset(original_train_dir, reducido_train_dir, fraccion)\n",
    "reducir_dataset(original_test_dir, reducido_test_dir, fraccion)"
   ]
  },
  {
   "cell_type": "markdown",
   "metadata": {},
   "source": [
    "# Modelo 1 VGG16"
   ]
  },
  {
   "cell_type": "code",
   "execution_count": 27,
   "metadata": {},
   "outputs": [],
   "source": [
    "# Transfer Learning: Usando VGG16 preentrenado\n",
    "base_model = VGG16(include_top=False, input_shape=(200, 200, 3), weights=None)\n",
    "base_model.trainable = False  # Congela las capas del modelo base"
   ]
  },
  {
   "cell_type": "code",
   "execution_count": 28,
   "metadata": {},
   "outputs": [
    {
     "name": "stdout",
     "output_type": "stream",
     "text": [
      "Model: \"sequential_5\"\n",
      "_________________________________________________________________\n",
      " Layer (type)                Output Shape              Param #   \n",
      "=================================================================\n",
      " vgg16 (Functional)          (None, 6, 6, 512)         14714688  \n",
      "                                                                 \n",
      " flatten_5 (Flatten)         (None, 18432)             0         \n",
      "                                                                 \n",
      " dense_10 (Dense)            (None, 128)               2359424   \n",
      "                                                                 \n",
      " dense_11 (Dense)            (None, 1)                 129       \n",
      "                                                                 \n",
      "=================================================================\n",
      "Total params: 17,074,241\n",
      "Trainable params: 2,359,553\n",
      "Non-trainable params: 14,714,688\n",
      "_________________________________________________________________\n"
     ]
    }
   ],
   "source": [
    "modelo1 = keras.Sequential([\n",
    "    base_model,\n",
    "    keras.layers.Flatten(),\n",
    "    keras.layers.Dense(128, activation='relu', kernel_initializer='he_uniform'),\n",
    "    keras.layers.Dense(1, activation='sigmoid')\n",
    "])\n",
    "opt = keras.optimizers.SGD(learning_rate=0.01, momentum=0.9)\n",
    "modelo1.compile(optimizer=opt, loss='binary_crossentropy', metrics=['accuracy'])\n",
    "modelo1.summary()\n",
    "\n",
    "# Callbacks\n",
    "early_stopping = EarlyStopping(monitor='val_loss', patience=3, restore_best_weights=True)"
   ]
  },
  {
   "cell_type": "markdown",
   "metadata": {},
   "source": [
    "## Entrenamiento"
   ]
  },
  {
   "cell_type": "code",
   "execution_count": 29,
   "metadata": {},
   "outputs": [
    {
     "name": "stdout",
     "output_type": "stream",
     "text": [
      "Found 7500 images belonging to 5 classes.\n",
      "Found 1200 images belonging to 5 classes.\n",
      "Epoch 1/10\n",
      "234/234 [==============================] - 590s 3s/step - loss: -32055873536.0000 - accuracy: 0.1999 - val_loss: -1017634488320.0000 - val_accuracy: 0.2010\n",
      "Epoch 2/10\n",
      "234/234 [==============================] - 546s 2s/step - loss: -192836353823848542502912.0000 - accuracy: 0.1999 - val_loss: -6312067687810777739165696.0000 - val_accuracy: 0.2019\n",
      "Epoch 3/10\n",
      "234/234 [==============================] - 564s 2s/step - loss: -inf - accuracy: 0.2003 - val_loss: -inf - val_accuracy: 0.2010\n",
      "Epoch 4/10\n",
      "234/234 [==============================] - 571s 2s/step - loss: nan - accuracy: 0.2003 - val_loss: nan - val_accuracy: 0.2010\n",
      "Epoch 5/10\n",
      "234/234 [==============================] - 567s 2s/step - loss: nan - accuracy: 0.2005 - val_loss: nan - val_accuracy: 0.1993\n",
      "Epoch 6/10\n",
      "234/234 [==============================] - 598s 3s/step - loss: nan - accuracy: 0.2002 - val_loss: nan - val_accuracy: 0.1993\n"
     ]
    },
    {
     "name": "stderr",
     "output_type": "stream",
     "text": [
      "WARNING:absl:Found untraced functions such as _jit_compiled_convolution_op, _jit_compiled_convolution_op, _jit_compiled_convolution_op, _jit_compiled_convolution_op, _jit_compiled_convolution_op while saving (showing 5 of 13). These functions will not be directly callable after loading.\n"
     ]
    },
    {
     "name": "stdout",
     "output_type": "stream",
     "text": [
      "INFO:tensorflow:Assets written to: modelos/modelo1\\assets\n"
     ]
    },
    {
     "name": "stderr",
     "output_type": "stream",
     "text": [
      "INFO:tensorflow:Assets written to: modelos/modelo1\\assets\n"
     ]
    }
   ],
   "source": [
    "datagen = ImageDataGenerator(rescale=1.0/255.0)\n",
    "train_it = datagen.flow_from_directory(reducido_train_dir, class_mode='binary', batch_size=32, target_size=(200, 200))\n",
    "test_it = datagen.flow_from_directory(reducido_test_dir, class_mode='binary', batch_size=32, target_size=(200, 200))\n",
    "\n",
    "history = modelo1.fit(train_it, steps_per_epoch=train_it.samples//train_it.batch_size, \n",
    "                      validation_data=test_it, validation_steps=test_it.samples//test_it.batch_size,\n",
    "                      epochs=10, callbacks=[early_stopping], verbose=True)\n",
    "\n",
    "modelo1.save('modelos/modelo1')"
   ]
  },
  {
   "cell_type": "markdown",
   "metadata": {},
   "source": [
    "Validando resultados"
   ]
  },
  {
   "cell_type": "code",
   "execution_count": 30,
   "metadata": {},
   "outputs": [
    {
     "name": "stdout",
     "output_type": "stream",
     "text": [
      "38/38 [==============================] - 82s 2s/step - loss: -inf - accuracy: 0.2000\n",
      "> 20.000\n"
     ]
    }
   ],
   "source": [
    "loss , acc = modelo1.evaluate(test_it, steps=len(test_it), verbose=1)\n",
    "print('> %.3f' % (acc * 100.0))"
   ]
  },
  {
   "cell_type": "code",
   "execution_count": 31,
   "metadata": {},
   "outputs": [
    {
     "data": {
      "text/plain": [
       "<matplotlib.legend.Legend at 0x247a291c850>"
      ]
     },
     "execution_count": 31,
     "metadata": {},
     "output_type": "execute_result"
    },
    {
     "data": {
      "image/png": "[encoded data removed]",
      "text/plain": [
       "<Figure size 640x480 with 2 Axes>"
      ]
     },
     "metadata": {},
     "output_type": "display_data"
    }
   ],
   "source": [
    "plt.subplot(211)\n",
    "plt.title('Cross Entropy Loss')\n",
    "plt.plot(history.history['loss'], color='blue', label='train')\n",
    "plt.plot(history.history['val_loss'], color='orange', label='test')\n",
    "plt.legend()\n",
    " # plot accuracy\n",
    "plt.subplot(212)\n",
    "plt.title('Classification Accuracy')\n",
    "plt.plot(history.history['accuracy'], color='blue', label='train')\n",
    "plt.plot(history.history['val_accuracy'], color='orange', label='test')\n",
    "plt.legend()\n"
   ]
  },
  {
   "cell_type": "markdown",
   "metadata": {},
   "source": [
    "Como se puede observar el modelo tuvo un accuracy de 20%. Que es bastante malo. Además en los gráficos se observa la peérdida y la exactitud de ambos conjuntos. Para la perdida train se mantiene constante, asi que aun usando mas epocas puede que no se resuelva el problema. En Accuracy para train parece que va aumentando a medida que transcurren las epocas pero de manera lenta."
   ]
  },
  {
   "cell_type": "markdown",
   "metadata": {},
   "source": [
    "# Modelo 2 CNN"
   ]
  },
  {
   "cell_type": "code",
   "execution_count": 39,
   "metadata": {},
   "outputs": [
    {
     "name": "stdout",
     "output_type": "stream",
     "text": [
      "Model: \"sequential_8\"\n",
      "_________________________________________________________________\n",
      " Layer (type)                Output Shape              Param #   \n",
      "=================================================================\n",
      " conv2d_8 (Conv2D)           (None, 198, 198, 32)      896       \n",
      "                                                                 \n",
      " max_pooling2d_8 (MaxPooling  (None, 99, 99, 32)       0         \n",
      " 2D)                                                             \n",
      "                                                                 \n",
      " conv2d_9 (Conv2D)           (None, 97, 97, 64)        18496     \n",
      "                                                                 \n",
      " max_pooling2d_9 (MaxPooling  (None, 48, 48, 64)       0         \n",
      " 2D)                                                             \n",
      "                                                                 \n",
      " conv2d_10 (Conv2D)          (None, 46, 46, 128)       73856     \n",
      "                                                                 \n",
      " max_pooling2d_10 (MaxPoolin  (None, 23, 23, 128)      0         \n",
      " g2D)                                                            \n",
      "                                                                 \n",
      " conv2d_11 (Conv2D)          (None, 21, 21, 128)       147584    \n",
      "                                                                 \n",
      " max_pooling2d_11 (MaxPoolin  (None, 10, 10, 128)      0         \n",
      " g2D)                                                            \n",
      "                                                                 \n",
      " flatten_8 (Flatten)         (None, 12800)             0         \n",
      "                                                                 \n",
      " dense_16 (Dense)            (None, 128)               1638528   \n",
      "                                                                 \n",
      " dropout_2 (Dropout)         (None, 128)               0         \n",
      "                                                                 \n",
      " dense_17 (Dense)            (None, 5)                 645       \n",
      "                                                                 \n",
      "=================================================================\n",
      "Total params: 1,880,005\n",
      "Trainable params: 1,880,005\n",
      "Non-trainable params: 0\n",
      "_________________________________________________________________\n"
     ]
    }
   ],
   "source": [
    "cnn_model = Sequential()\n",
    "\n",
    "# Primera capa\n",
    "cnn_model.add(Conv2D(32, (3, 3), activation='relu', input_shape=(200, 200, 3)))\n",
    "cnn_model.add(MaxPooling2D((2, 2)))\n",
    "\n",
    "# Segunda capa\n",
    "cnn_model.add(Conv2D(64, (3, 3), activation='relu'))\n",
    "cnn_model.add(MaxPooling2D((2, 2)))\n",
    "\n",
    "# Tercera capa \n",
    "cnn_model.add(Conv2D(128, (3, 3), activation='relu'))\n",
    "cnn_model.add(MaxPooling2D((2, 2)))\n",
    "\n",
    "# Cuarta capa\n",
    "cnn_model.add(Conv2D(128, (3, 3), activation='relu'))\n",
    "cnn_model.add(MaxPooling2D((2, 2)))\n",
    "\n",
    "# Aplanar las salidas de las capas\n",
    "cnn_model.add(Flatten())\n",
    "\n",
    "# Capa completamente conectada\n",
    "cnn_model.add(Dense(128, activation='relu'))\n",
    "\n",
    "# Añadir Dropout para regularización\n",
    "cnn_model.add(Dropout(0.5))\n",
    "\n",
    "cnn_model.add(Dense(5, activation='softmax'))\n",
    "\n",
    "# Compilar el modelo\n",
    "cnn_model.compile(optimizer=Adam(learning_rate=0.001), loss='categorical_crossentropy', metrics=['accuracy'])\n",
    "\n",
    "cnn_model.summary()"
   ]
  },
  {
   "cell_type": "markdown",
   "metadata": {},
   "source": [
    "### Entrenamiento"
   ]
  },
  {
   "cell_type": "code",
   "execution_count": 41,
   "metadata": {},
   "outputs": [
    {
     "name": "stdout",
     "output_type": "stream",
     "text": [
      "Found 6000 images belonging to 5 classes.\n",
      "Found 1500 images belonging to 5 classes.\n",
      "Epoch 1/10\n",
      "187/187 [==============================] - 127s 673ms/step - loss: 0.8919 - accuracy: 0.6312 - val_loss: 0.3535 - val_accuracy: 0.8404\n",
      "Epoch 2/10\n",
      "187/187 [==============================] - 126s 675ms/step - loss: 0.3774 - accuracy: 0.8509 - val_loss: 0.5229 - val_accuracy: 0.7908\n",
      "Epoch 3/10\n",
      "187/187 [==============================] - 129s 691ms/step - loss: 0.2803 - accuracy: 0.8842 - val_loss: 0.2388 - val_accuracy: 0.9171\n",
      "Epoch 4/10\n",
      "187/187 [==============================] - 128s 683ms/step - loss: 0.2371 - accuracy: 0.9040 - val_loss: 0.1646 - val_accuracy: 0.9307\n",
      "Epoch 5/10\n",
      "187/187 [==============================] - 128s 682ms/step - loss: 0.2091 - accuracy: 0.9159 - val_loss: 0.1661 - val_accuracy: 0.9375\n",
      "Epoch 6/10\n",
      "187/187 [==============================] - 128s 683ms/step - loss: 0.1401 - accuracy: 0.9432 - val_loss: 0.1801 - val_accuracy: 0.9287\n",
      "Epoch 7/10\n",
      "187/187 [==============================] - 128s 682ms/step - loss: 0.1574 - accuracy: 0.9419 - val_loss: 0.1443 - val_accuracy: 0.9443\n",
      "Epoch 8/10\n",
      "187/187 [==============================] - 128s 683ms/step - loss: 0.1617 - accuracy: 0.9445 - val_loss: 0.1394 - val_accuracy: 0.9450\n",
      "Epoch 9/10\n",
      "187/187 [==============================] - 126s 676ms/step - loss: 0.1269 - accuracy: 0.9506 - val_loss: 0.1191 - val_accuracy: 0.9477\n",
      "Epoch 10/10\n",
      "187/187 [==============================] - 129s 688ms/step - loss: 0.0868 - accuracy: 0.9665 - val_loss: 0.1448 - val_accuracy: 0.9423\n"
     ]
    },
    {
     "name": "stderr",
     "output_type": "stream",
     "text": [
      "WARNING:absl:Found untraced functions such as _jit_compiled_convolution_op, _jit_compiled_convolution_op, _jit_compiled_convolution_op, _jit_compiled_convolution_op while saving (showing 4 of 4). These functions will not be directly callable after loading.\n"
     ]
    },
    {
     "name": "stdout",
     "output_type": "stream",
     "text": [
      "INFO:tensorflow:Assets written to: modelos/modelo2\\assets\n"
     ]
    },
    {
     "name": "stderr",
     "output_type": "stream",
     "text": [
      "INFO:tensorflow:Assets written to: modelos/modelo2\\assets\n"
     ]
    }
   ],
   "source": [
    "# Preprocesamiento de los datos\n",
    "datagen = ImageDataGenerator(rescale=1.0/255.0, validation_split=0.2)\n",
    "\n",
    "# Generadores de datos\n",
    "train_it = datagen.flow_from_directory(reducido_train_dir, class_mode='categorical', batch_size=32, target_size=(200, 200), subset='training')\n",
    "val_it = datagen.flow_from_directory(reducido_train_dir, class_mode='categorical', batch_size=32, target_size=(200, 200), subset='validation')\n",
    "\n",
    "# Entrenamiento del modelo\n",
    "history_cnn = cnn_model.fit(train_it, steps_per_epoch=train_it.samples//train_it.batch_size,\n",
    "                            validation_data=val_it, validation_steps=val_it.samples//val_it.batch_size,\n",
    "                            epochs=10, callbacks=[early_stopping], verbose=True)\n",
    "\n",
    "# Guardar el modelo\n",
    "cnn_model.save('modelos/modelo2')"
   ]
  },
  {
   "cell_type": "code",
   "execution_count": 44,
   "metadata": {},
   "outputs": [
    {
     "name": "stdout",
     "output_type": "stream",
     "text": [
      "46/46 [==============================] - 7s 149ms/step - loss: 0.1463 - accuracy: 0.9416\n",
      "Pérdida en validación: 0.1463\n",
      "Precisión en validación: 0.9416\n"
     ]
    }
   ],
   "source": [
    "# Evaluar el modelo en el conjunto de validación\n",
    "val_loss, val_accuracy = cnn_model.evaluate(val_it, steps=val_it.samples // val_it.batch_size, verbose=True)\n",
    "print(f'Pérdida en validación: {val_loss:.4f}')\n",
    "print(f'Precisión en validación: {val_accuracy:.4f}')"
   ]
  },
  {
   "cell_type": "code",
   "execution_count": 45,
   "metadata": {},
   "outputs": [
    {
     "data": {
      "image/png": "[encoded data removed]",
      "text/plain": [
       "<Figure size 1200x500 with 2 Axes>"
      ]
     },
     "metadata": {},
     "output_type": "display_data"
    }
   ],
   "source": [
    "# Gráficos de precisión y pérdida\n",
    "plt.figure(figsize=(12, 5))\n",
    "\n",
    "# Precisión\n",
    "plt.subplot(1, 2, 1)\n",
    "plt.plot(history_cnn.history['accuracy'], label='Precisión en entrenamiento')\n",
    "plt.plot(history_cnn.history['val_accuracy'], label='Precisión en validación')\n",
    "plt.title('Precisión del modelo')\n",
    "plt.xlabel('Épocas')\n",
    "plt.ylabel('Precisión')\n",
    "plt.legend()\n",
    "\n",
    "# Pérdida\n",
    "plt.subplot(1, 2, 2)\n",
    "plt.plot(history_cnn.history['loss'], label='Pérdida en entrenamiento')\n",
    "plt.plot(history_cnn.history['val_loss'], label='Pérdida en validación')\n",
    "plt.title('Pérdida del modelo')\n",
    "plt.xlabel('Épocas')\n",
    "plt.ylabel('Pérdida')\n",
    "plt.legend()\n",
    "\n",
    "plt.show()"
   ]
  },
  {
   "cell_type": "markdown",
   "metadata": {},
   "source": [
    "Al usar este modelo podemos observar una mejora total. La perdida de validacion es relativamente baja, lo que indica que el modelo esta haciendo un bien trabajo al ajustar las predicciones a los datos de validacion.\n",
    "\n",
    "en el conjunto de validación sugiere que el modelo tiene un rendimiento muy sólido. Esto significa que el modelo clasificó correctamente el 94.16% de las imágenes en el conjunto de validación, lo cual es excelente para la mayoría de las aplicaciones de reconocimiento de caracteres manuscritos."
   ]
  },
  {
   "cell_type": "markdown",
   "metadata": {},
   "source": [
    "## Comparacion y Seleccion del Modelo\n",
    "#### Modelo VGG16\n",
    "\n",
    "- **Precisión (Accuracy):** El modelo VGG16 obtuvo una precisión de **20%**, lo que es significativamente bajo para esta tarea. Esta baja precisión indica que el modelo tiene dificultades para clasificar correctamente las imágenes de caracteres manuscritos.\n",
    "\n",
    "- **Comportamiento de la Pérdida:** La pérdida de entrenamiento se mantiene constante a lo largo de las épocas, sugiriendo que el modelo podría estar estancado en un mínimo local o no estar bien adaptado a los datos. Aumentar el número de épocas no parece resolver el problema, ya que la pérdida no mejora.\n",
    "\n",
    "- **Exactitud de Entrenamiento:** Aunque la precisión de entrenamiento muestra una ligera mejora, el rendimiento general sigue siendo insatisfactorio.\n",
    "\n",
    "#### Modelo CNN Personalizado\n",
    "\n",
    "- **Precisión de Validación:** El modelo CNN personalizado mostró una **precisión de 94.16%** en el conjunto de validación, lo cual es excelente. Esto indica que el modelo está clasificando correctamente el 94.16% de las imágenes en el conjunto de validación, superando con creces al modelo VGG16.\n",
    "\n",
    "- **Pérdida de Validación:** La pérdida en el conjunto de validación es relativamente baja, lo que sugiere que el modelo está bien ajustado a los datos y no presenta problemas de sobreajuste o bajoajuste.\n",
    "\n",
    "- **Mejora General:** La alta precisión y la baja pérdida en el conjunto de validación refuerzan la efectividad del modelo CNN personalizado en la tarea de reconocimiento de caracteres manuscritos.\n",
    "\n",
    "### Selección del Modelo\n",
    "\n",
    "Basado en el análisis de los resultados, **se selecciona el modelo CNN personalizado** como el mejor para la tarea de reconocimiento de caracteres manuscritos. Este modelo ha demostrado un rendimiento significativamente superior en comparación con VGG16, con una alta precisión y baja pérdida en el conjunto de validación. Por lo tanto, el modelo CNN personalizado es la opción preferida para este problema.\n",
    "\n"
   ]
  },
  {
   "cell_type": "markdown",
   "metadata": {},
   "source": [
    "# Modelo Adicional SVM"
   ]
  },
  {
   "cell_type": "code",
   "execution_count": 49,
   "metadata": {},
   "outputs": [
    {
     "name": "stdout",
     "output_type": "stream",
     "text": [
      "Found 6000 images belonging to 5 classes.\n",
      "Found 1500 images belonging to 5 classes.\n"
     ]
    }
   ],
   "source": [
    "# Cargar y preprocesar los datos\n",
    "def load_and_preprocess_data(directory, target_size=(200, 200)):\n",
    "    datagen = ImageDataGenerator(rescale=1.0/255.0, validation_split=0.2)\n",
    "    train_it = datagen.flow_from_directory(directory, class_mode='categorical', batch_size=32, target_size=target_size, subset='training')\n",
    "    val_it = datagen.flow_from_directory(directory, class_mode='categorical', batch_size=32, target_size=target_size, subset='validation')\n",
    "    \n",
    "    X_train, y_train = next(train_it)\n",
    "    X_val, y_val = next(val_it)\n",
    "    \n",
    "    return X_train, y_train, X_val, y_val\n",
    "\n",
    "X_train, y_train, X_val, y_val = load_and_preprocess_data(reducido_train_dir)\n",
    "\n",
    "# Aplanar las imágenes para el clasificador SVM\n",
    "X_train_flat = X_train.reshape(X_train.shape[0], -1)\n",
    "X_val_flat = X_val.reshape(X_val.shape[0], -1)\n",
    "\n",
    "# Normalizar los datos\n",
    "scaler = StandardScaler()\n",
    "X_train_scaled = scaler.fit_transform(X_train_flat)\n",
    "X_val_scaled = scaler.transform(X_val_flat)"
   ]
  },
  {
   "cell_type": "markdown",
   "metadata": {},
   "source": [
    "Entrenamiento"
   ]
  },
  {
   "cell_type": "code",
   "execution_count": 50,
   "metadata": {},
   "outputs": [
    {
     "data": {
      "text/html": [
       "<style>#sk-container-id-1 {color: black;}#sk-container-id-1 pre{padding: 0;}#sk-container-id-1 div.sk-toggleable {background-color: white;}#sk-container-id-1 label.sk-toggleable__label {cursor: pointer;display: block;width: 100%;margin-bottom: 0;padding: 0.3em;box-sizing: border-box;text-align: center;}#sk-container-id-1 label.sk-toggleable__label-arrow:before {content: \"▸\";float: left;margin-right: 0.25em;color: #696969;}#sk-container-id-1 label.sk-toggleable__label-arrow:hover:before {color: black;}#sk-container-id-1 div.sk-estimator:hover label.sk-toggleable__label-arrow:before {color: black;}#sk-container-id-1 div.sk-toggleable__content {max-height: 0;max-width: 0;overflow: hidden;text-align: left;background-color: #f0f8ff;}#sk-container-id-1 div.sk-toggleable__content pre {margin: 0.2em;color: black;border-radius: 0.25em;background-color: #f0f8ff;}#sk-container-id-1 input.sk-toggleable__control:checked~div.sk-toggleable__content {max-height: 200px;max-width: 100%;overflow: auto;}#sk-container-id-1 input.sk-toggleable__control:checked~label.sk-toggleable__label-arrow:before {content: \"▾\";}#sk-container-id-1 div.sk-estimator input.sk-toggleable__control:checked~label.sk-toggleable__label {background-color: #d4ebff;}#sk-container-id-1 div.sk-label input.sk-toggleable__control:checked~label.sk-toggleable__label {background-color: #d4ebff;}#sk-container-id-1 input.sk-hidden--visually {border: 0;clip: rect(1px 1px 1px 1px);clip: rect(1px, 1px, 1px, 1px);height: 1px;margin: -1px;overflow: hidden;padding: 0;position: absolute;width: 1px;}#sk-container-id-1 div.sk-estimator {font-family: monospace;background-color: #f0f8ff;border: 1px dotted black;border-radius: 0.25em;box-sizing: border-box;margin-bottom: 0.5em;}#sk-container-id-1 div.sk-estimator:hover {background-color: #d4ebff;}#sk-container-id-1 div.sk-parallel-item::after {content: \"\";width: 100%;border-bottom: 1px solid gray;flex-grow: 1;}#sk-container-id-1 div.sk-label:hover label.sk-toggleable__label {background-color: #d4ebff;}#sk-container-id-1 div.sk-serial::before {content: \"\";position: absolute;border-left: 1px solid gray;box-sizing: border-box;top: 0;bottom: 0;left: 50%;z-index: 0;}#sk-container-id-1 div.sk-serial {display: flex;flex-direction: column;align-items: center;background-color: white;padding-right: 0.2em;padding-left: 0.2em;position: relative;}#sk-container-id-1 div.sk-item {position: relative;z-index: 1;}#sk-container-id-1 div.sk-parallel {display: flex;align-items: stretch;justify-content: center;background-color: white;position: relative;}#sk-container-id-1 div.sk-item::before, #sk-container-id-1 div.sk-parallel-item::before {content: \"\";position: absolute;border-left: 1px solid gray;box-sizing: border-box;top: 0;bottom: 0;left: 50%;z-index: -1;}#sk-container-id-1 div.sk-parallel-item {display: flex;flex-direction: column;z-index: 1;position: relative;background-color: white;}#sk-container-id-1 div.sk-parallel-item:first-child::after {align-self: flex-end;width: 50%;}#sk-container-id-1 div.sk-parallel-item:last-child::after {align-self: flex-start;width: 50%;}#sk-container-id-1 div.sk-parallel-item:only-child::after {width: 0;}#sk-container-id-1 div.sk-dashed-wrapped {border: 1px dashed gray;margin: 0 0.4em 0.5em 0.4em;box-sizing: border-box;padding-bottom: 0.4em;background-color: white;}#sk-container-id-1 div.sk-label label {font-family: monospace;font-weight: bold;display: inline-block;line-height: 1.2em;}#sk-container-id-1 div.sk-label-container {text-align: center;}#sk-container-id-1 div.sk-container {/* jupyter's `normalize.less` sets `[hidden] { display: none; }` but bootstrap.min.css set `[hidden] { display: none !important; }` so we also need the `!important` here to be able to override the default hidden behavior on the sphinx rendered scikit-learn.org. See: https://github.com/scikit-learn/scikit-learn/issues/21755 */display: inline-block !important;position: relative;}#sk-container-id-1 div.sk-text-repr-fallback {display: none;}</style><div id=\"sk-container-id-1\" class=\"sk-top-container\"><div class=\"sk-text-repr-fallback\"><pre>SVC(gamma=&#x27;auto&#x27;)</pre><b>In a Jupyter environment, please rerun this cell to show the HTML representation or trust the notebook. <br />On GitHub, the HTML representation is unable to render, please try loading this page with nbviewer.org.</b></div><div class=\"sk-container\" hidden><div class=\"sk-item\"><div class=\"sk-estimator sk-toggleable\"><input class=\"sk-toggleable__control sk-hidden--visually\" id=\"sk-estimator-id-1\" type=\"checkbox\" checked><label for=\"sk-estimator-id-1\" class=\"sk-toggleable__label sk-toggleable__label-arrow\">SVC</label><div class=\"sk-toggleable__content\"><pre>SVC(gamma=&#x27;auto&#x27;)</pre></div></div></div></div></div>"
      ],
      "text/plain": [
       "SVC(gamma='auto')"
      ]
     },
     "execution_count": 50,
     "metadata": {},
     "output_type": "execute_result"
    }
   ],
   "source": [
    "svm_model = SVC(kernel='rbf', gamma='auto')\n",
    "svm_model.fit(X_train_scaled, np.argmax(y_train, axis=1))"
   ]
  },
  {
   "cell_type": "markdown",
   "metadata": {},
   "source": [
    "Evaluar"
   ]
  },
  {
   "cell_type": "code",
   "execution_count": 51,
   "metadata": {},
   "outputs": [
    {
     "name": "stdout",
     "output_type": "stream",
     "text": [
      "Precisión del modelo SVM con kernel Gaussiano: 0.34\n"
     ]
    }
   ],
   "source": [
    "y_val_pred = svm_model.predict(X_val_scaled)\n",
    "accuracy = accuracy_score(np.argmax(y_val, axis=1), y_val_pred)\n",
    "\n",
    "print(f\"Precisión del modelo SVM con kernel Gaussiano: {accuracy:.2f}\")"
   ]
  },
  {
   "cell_type": "markdown",
   "metadata": {},
   "source": [
    "## Análisis de los resultados\n",
    "\n",
    "El modelo SVM con kernel Gaussiano mostró una precisión del 34% en el conjunto de validación. Este rendimiento es notablemente inferior comparado con el modelo CNN, que alcanzó una precisión del 94.16%.\n",
    "\n",
    "#### Comparación con el Modelo CNN\n",
    "\n",
    "- **Modelo CNN:** El modelo CNN demostró una alta precisión del 94.16%, lo que indica una capacidad robusta para clasificar correctamente los caracteres manuscritos en el conjunto de validación. Su estructura profunda y su capacidad para aprender características complejas de las imágenes contribuyen significativamente a su alto rendimiento.\n",
    "\n",
    "- **Modelo SVM con Kernel Gaussiano:** El modelo SVM alcanzó una precisión del 34%, que es considerablemente baja. Esto sugiere que el SVM tiene dificultades para capturar las características complejas y las variaciones en los datos de imagen de los caracteres manuscritos.\n",
    "\n",
    "#### Posibles Razones para el Bajo Rendimiento del SVM\n",
    "\n",
    "1. **Dimensionalidad de Datos:** Las imágenes originales se aplanaron y normalizaron, lo que puede haber reducido la información espacial y de características importante para el modelo SVM.\n",
    "\n",
    "2. **Modelo Lineal vs. No Lineal:** Aunque el kernel Gaussiano (RBF) es no lineal, puede no haber capturado las complejidades del dataset de manera efectiva, especialmente si el parámetro gamma no está optimizado adecuadamente.\n",
    "\n",
    "3. **Preprocesamiento:** El preprocesamiento y la normalización aplicados pueden no haber sido ideales para el clasificador SVM en comparación con las redes neuronales convolucionales que manejan datos de imagen de forma más eficiente."
   ]
  },
  {
   "cell_type": "markdown",
   "metadata": {},
   "source": [
    "# Image Data Augmentation"
   ]
  },
  {
   "cell_type": "code",
   "execution_count": 52,
   "metadata": {},
   "outputs": [
    {
     "name": "stdout",
     "output_type": "stream",
     "text": [
      "Found 6000 images belonging to 5 classes.\n",
      "Found 1500 images belonging to 5 classes.\n"
     ]
    }
   ],
   "source": [
    "datagen_aug = ImageDataGenerator(\n",
    "    rescale=1.0/255.0,\n",
    "    validation_split=0.2,\n",
    "    rotation_range=20,         \n",
    "    width_shift_range=0.2,    \n",
    "    height_shift_range=0.2,    \n",
    "    shear_range=0.2,          \n",
    "    zoom_range=0.2,           \n",
    "    horizontal_flip=True,     \n",
    "    fill_mode='nearest'       \n",
    ")\n",
    "\n",
    "# Generadores de datos con augmentación\n",
    "train_it_aug = datagen_aug.flow_from_directory(\n",
    "    reducido_train_dir,\n",
    "    class_mode='categorical',\n",
    "    batch_size=32,\n",
    "    target_size=(200, 200),\n",
    "    subset='training'\n",
    ")\n",
    "\n",
    "val_it_aug = datagen_aug.flow_from_directory(\n",
    "    reducido_train_dir,\n",
    "    class_mode='categorical',\n",
    "    batch_size=32,\n",
    "    target_size=(200, 200),\n",
    "    subset='validation'\n",
    ")"
   ]
  },
  {
   "cell_type": "markdown",
   "metadata": {},
   "source": [
    "## Reentrenando Modelos"
   ]
  },
  {
   "cell_type": "markdown",
   "metadata": {},
   "source": [
    "### VGG16"
   ]
  },
  {
   "cell_type": "code",
   "execution_count": 55,
   "metadata": {},
   "outputs": [
    {
     "name": "stdout",
     "output_type": "stream",
     "text": [
      "Model: \"sequential_9\"\n",
      "_________________________________________________________________\n",
      " Layer (type)                Output Shape              Param #   \n",
      "=================================================================\n",
      " vgg16 (Functional)          (None, 6, 6, 512)         14714688  \n",
      "                                                                 \n",
      " flatten_9 (Flatten)         (None, 18432)             0         \n",
      "                                                                 \n",
      " dense_18 (Dense)            (None, 128)               2359424   \n",
      "                                                                 \n",
      " dense_19 (Dense)            (None, 5)                 645       \n",
      "                                                                 \n",
      "=================================================================\n",
      "Total params: 17,074,757\n",
      "Trainable params: 2,360,069\n",
      "Non-trainable params: 14,714,688\n",
      "_________________________________________________________________\n",
      "Epoch 1/10\n",
      "187/187 [==============================] - 479s 3s/step - loss: 1.6099 - accuracy: 0.1974 - val_loss: 1.6087 - val_accuracy: 0.1990\n",
      "Epoch 2/10\n",
      "187/187 [==============================] - 509s 3s/step - loss: 1.6094 - accuracy: 0.2004 - val_loss: 1.6082 - val_accuracy: 0.2004\n",
      "Epoch 3/10\n",
      "187/187 [==============================] - 527s 3s/step - loss: 1.6083 - accuracy: 0.2086 - val_loss: 1.6070 - val_accuracy: 0.2262\n",
      "Epoch 4/10\n",
      "187/187 [==============================] - 546s 3s/step - loss: 1.6076 - accuracy: 0.2173 - val_loss: 1.6065 - val_accuracy: 0.2031\n",
      "Epoch 5/10\n",
      "187/187 [==============================] - 536s 3s/step - loss: 1.6059 - accuracy: 0.2200 - val_loss: 1.6052 - val_accuracy: 0.2011\n",
      "Epoch 6/10\n",
      "187/187 [==============================] - 544s 3s/step - loss: 1.6051 - accuracy: 0.2291 - val_loss: 1.6033 - val_accuracy: 0.3730\n",
      "Epoch 7/10\n",
      "187/187 [==============================] - 533s 3s/step - loss: 1.6033 - accuracy: 0.2547 - val_loss: 1.6017 - val_accuracy: 0.2004\n",
      "Epoch 8/10\n",
      "187/187 [==============================] - 523s 3s/step - loss: 1.6012 - accuracy: 0.2792 - val_loss: 1.5990 - val_accuracy: 0.3077\n",
      "Epoch 9/10\n",
      "187/187 [==============================] - 537s 3s/step - loss: 1.5985 - accuracy: 0.2805 - val_loss: 1.5959 - val_accuracy: 0.2914\n",
      "Epoch 10/10\n",
      "187/187 [==============================] - 516s 3s/step - loss: 1.5945 - accuracy: 0.2900 - val_loss: 1.5928 - val_accuracy: 0.2901\n",
      "46/46 [==============================] - 101s 2s/step - loss: 1.5925 - accuracy: 0.2962\n",
      "Pérdida en validación: 1.5925\n",
      "Precisión en validación: 0.2962\n"
     ]
    }
   ],
   "source": [
    "# Transfer Learning: Usando VGG16 preentrenado\n",
    "base_model = VGG16(include_top=False, input_shape=(200, 200, 3), weights=None)\n",
    "base_model.trainable = False \n",
    "\n",
    "modelo_vgg16 = keras.models.Sequential([\n",
    "    base_model,\n",
    "    keras.layers.Flatten(),\n",
    "    keras.layers.Dense(128, activation='relu', kernel_initializer='he_uniform'),\n",
    "    keras.layers.Dense(5, activation='softmax') \n",
    "])\n",
    "\n",
    "# Configuración del optimizador y la compilación del modelo\n",
    "opt = keras.optimizers.SGD(learning_rate=0.01, momentum=0.9)\n",
    "modelo_vgg16.compile(optimizer=opt, loss='categorical_crossentropy', metrics=['accuracy'])\n",
    "modelo_vgg16.summary()\n",
    "\n",
    "# Entrenamiento del modelo VGG16 con datos aumentados\n",
    "history_vgg16_aug = modelo_vgg16.fit(\n",
    "    train_it_aug,\n",
    "    steps_per_epoch=train_it_aug.samples // train_it_aug.batch_size,\n",
    "    validation_data=val_it_aug,\n",
    "    validation_steps=val_it_aug.samples // val_it_aug.batch_size,\n",
    "    epochs=10,\n",
    "    callbacks=[early_stopping],\n",
    "    verbose=True\n",
    ")\n",
    "\n",
    "# Evaluación del modelo en el conjunto de validación\n",
    "val_loss, val_accuracy = modelo_vgg16.evaluate(val_it_aug, steps=val_it_aug.samples // val_it_aug.batch_size, verbose=True)\n",
    "print(f'Pérdida en validación: {val_loss:.4f}')\n",
    "print(f'Precisión en validación: {val_accuracy:.4f}')"
   ]
  },
  {
   "cell_type": "markdown",
   "metadata": {},
   "source": [
    "### CNN"
   ]
  },
  {
   "cell_type": "code",
   "execution_count": 58,
   "metadata": {},
   "outputs": [
    {
     "name": "stdout",
     "output_type": "stream",
     "text": [
      "Model: \"sequential_12\"\n",
      "_________________________________________________________________\n",
      " Layer (type)                Output Shape              Param #   \n",
      "=================================================================\n",
      " conv2d_20 (Conv2D)          (None, 198, 198, 32)      896       \n",
      "                                                                 \n",
      " max_pooling2d_20 (MaxPoolin  (None, 99, 99, 32)       0         \n",
      " g2D)                                                            \n",
      "                                                                 \n",
      " conv2d_21 (Conv2D)          (None, 97, 97, 64)        18496     \n",
      "                                                                 \n",
      " max_pooling2d_21 (MaxPoolin  (None, 48, 48, 64)       0         \n",
      " g2D)                                                            \n",
      "                                                                 \n",
      " conv2d_22 (Conv2D)          (None, 46, 46, 128)       73856     \n",
      "                                                                 \n",
      " max_pooling2d_22 (MaxPoolin  (None, 23, 23, 128)      0         \n",
      " g2D)                                                            \n",
      "                                                                 \n",
      " conv2d_23 (Conv2D)          (None, 21, 21, 128)       147584    \n",
      "                                                                 \n",
      " max_pooling2d_23 (MaxPoolin  (None, 10, 10, 128)      0         \n",
      " g2D)                                                            \n",
      "                                                                 \n",
      " flatten_12 (Flatten)        (None, 12800)             0         \n",
      "                                                                 \n",
      " dense_24 (Dense)            (None, 128)               1638528   \n",
      "                                                                 \n",
      " dropout_5 (Dropout)         (None, 128)               0         \n",
      "                                                                 \n",
      " dense_25 (Dense)            (None, 5)                 645       \n",
      "                                                                 \n",
      "=================================================================\n",
      "Total params: 1,880,005\n",
      "Trainable params: 1,880,005\n",
      "Non-trainable params: 0\n",
      "_________________________________________________________________\n",
      "Epoch 1/10\n",
      "187/187 [==============================] - 148s 782ms/step - loss: 0.6635 - accuracy: 0.6882 - val_loss: 0.5157 - val_accuracy: 0.7500\n",
      "Epoch 2/10\n",
      "187/187 [==============================] - 158s 844ms/step - loss: 0.3635 - accuracy: 0.8227 - val_loss: 0.2647 - val_accuracy: 0.8560\n",
      "Epoch 3/10\n",
      "187/187 [==============================] - 150s 799ms/step - loss: 0.3383 - accuracy: 0.8442 - val_loss: 0.2652 - val_accuracy: 0.8811\n",
      "Epoch 4/10\n",
      "187/187 [==============================] - 152s 814ms/step - loss: 0.3091 - accuracy: 0.8606 - val_loss: 0.2379 - val_accuracy: 0.8906\n",
      "Epoch 5/10\n",
      "187/187 [==============================] - 144s 767ms/step - loss: 0.2582 - accuracy: 0.8913 - val_loss: 0.2056 - val_accuracy: 0.9164\n",
      "Epoch 6/10\n",
      "187/187 [==============================] - 157s 840ms/step - loss: 0.2184 - accuracy: 0.9010 - val_loss: 0.1548 - val_accuracy: 0.9212\n",
      "Epoch 7/10\n",
      "187/187 [==============================] - 154s 822ms/step - loss: 0.2318 - accuracy: 0.9047 - val_loss: 0.2352 - val_accuracy: 0.8893\n",
      "Epoch 8/10\n",
      "187/187 [==============================] - 163s 870ms/step - loss: 0.2102 - accuracy: 0.9209 - val_loss: 0.1309 - val_accuracy: 0.9429\n",
      "Epoch 9/10\n",
      "187/187 [==============================] - 147s 787ms/step - loss: 0.1734 - accuracy: 0.9301 - val_loss: 0.1487 - val_accuracy: 0.9287\n",
      "Epoch 10/10\n",
      "187/187 [==============================] - 169s 902ms/step - loss: 0.1325 - accuracy: 0.9450 - val_loss: 0.2140 - val_accuracy: 0.9185\n"
     ]
    }
   ],
   "source": [
    "# Crear el modelo CNN\n",
    "cnn_model = Sequential()\n",
    "\n",
    "# Primera capa\n",
    "cnn_model.add(Conv2D(32, (3, 3), activation='relu', input_shape=(200, 200, 3)))\n",
    "cnn_model.add(MaxPooling2D((2, 2)))\n",
    "\n",
    "# Segunda capa\n",
    "cnn_model.add(Conv2D(64, (3, 3), activation='relu'))\n",
    "cnn_model.add(MaxPooling2D((2, 2)))\n",
    "\n",
    "# Tercera capa \n",
    "cnn_model.add(Conv2D(128, (3, 3), activation='relu'))\n",
    "cnn_model.add(MaxPooling2D((2, 2)))\n",
    "\n",
    "# Cuarta capa\n",
    "cnn_model.add(Conv2D(128, (3, 3), activation='relu'))\n",
    "cnn_model.add(MaxPooling2D((2, 2)))\n",
    "\n",
    "# Aplanar las salidas de las capas\n",
    "cnn_model.add(Flatten())\n",
    "\n",
    "# Capa completamente conectada\n",
    "cnn_model.add(Dense(128, activation='relu'))\n",
    "\n",
    "# Añadir Dropout para regularización\n",
    "cnn_model.add(Dropout(0.5))\n",
    "\n",
    "cnn_model.add(Dense(5, activation='softmax'))\n",
    "\n",
    "# Compilar el modelo\n",
    "cnn_model.compile(optimizer=Adam(learning_rate=0.001), loss='categorical_crossentropy', metrics=['accuracy'])\n",
    "\n",
    "cnn_model.summary()\n",
    "\n",
    "\n",
    "# Entrenamiento del modelo CNN con datos aumentados\n",
    "history_cnn_aug = cnn_model.fit(\n",
    "    train_it_aug,\n",
    "    steps_per_epoch=train_it_aug.samples // train_it_aug.batch_size,\n",
    "    validation_data=val_it_aug,\n",
    "    validation_steps=val_it_aug.samples // val_it_aug.batch_size,\n",
    "    epochs=10,\n",
    "    callbacks=[early_stopping],\n",
    "    verbose=True\n",
    ")"
   ]
  },
  {
   "cell_type": "code",
   "execution_count": 59,
   "metadata": {},
   "outputs": [
    {
     "name": "stdout",
     "output_type": "stream",
     "text": [
      "46/46 [==============================] - 18s 381ms/step - loss: 0.2132 - accuracy: 0.9253\n",
      "Pérdida en validación: 0.2132\n",
      "Precisión en validación: 0.9253\n"
     ]
    }
   ],
   "source": [
    "# Evaluación del modelo en el conjunto de validación\n",
    "val_loss, val_accuracy = cnn_model.evaluate(val_it_aug, steps=val_it_aug.samples // val_it_aug.batch_size, verbose=True)\n",
    "print(f'Pérdida en validación: {val_loss:.4f}')\n",
    "print(f'Precisión en validación: {val_accuracy:.4f}')"
   ]
  },
  {
   "cell_type": "markdown",
   "metadata": {},
   "source": [
    "### SVM"
   ]
  },
  {
   "cell_type": "code",
   "execution_count": 62,
   "metadata": {},
   "outputs": [
    {
     "name": "stdout",
     "output_type": "stream",
     "text": [
      "Precisión del modelo SVM con kernel Gaussiano: 0.76\n"
     ]
    }
   ],
   "source": [
    "# Usar solo una fracción del conjunto de datos para entrenamiento y validación\n",
    "fraction = 0.1  # Ajusta el valor según sea necesario\n",
    "\n",
    "def preprocess_images_fraction(image_generator, fraction=0.1):\n",
    "    images, labels = [], []\n",
    "    for _ in range(int(image_generator.samples // image_generator.batch_size * fraction)):\n",
    "        batch_images, batch_labels = image_generator.next()\n",
    "        images.extend(batch_images)\n",
    "        labels.extend(batch_labels)\n",
    "    return np.array(images), np.array(labels)\n",
    "\n",
    "train_images, train_labels = preprocess_images_fraction(train_it_aug, fraction=fraction)\n",
    "val_images, val_labels = preprocess_images_fraction(val_it_aug, fraction=fraction)\n",
    "\n",
    "# Normalizar imágenes\n",
    "scaler = StandardScaler()\n",
    "train_images_scaled = scaler.fit_transform(train_images.reshape(train_images.shape[0], -1))\n",
    "val_images_scaled = scaler.transform(val_images.reshape(val_images.shape[0], -1))\n",
    "\n",
    "# Entrenamiento del modelo SVM\n",
    "svm_model = make_pipeline(StandardScaler(), SVC(kernel='rbf', C=1.0, gamma='scale'))\n",
    "svm_model.fit(train_images_scaled, np.argmax(train_labels, axis=1))\n",
    "\n",
    "# Evaluar el modelo SVM\n",
    "accuracy_svm = svm_model.score(val_images_scaled, np.argmax(val_labels, axis=1))\n",
    "print(f'Precisión del modelo SVM con kernel Gaussiano: {accuracy_svm:.2f}')"
   ]
  },
  {
   "cell_type": "markdown",
   "metadata": {},
   "source": [
    "# Análisis de Modelos con Augmentación de Imágenes\n",
    "\n",
    "## VGG16\n",
    "\n",
    "**Resultados:**\n",
    "- **Pérdida en validación:** 1.5925\n",
    "- **Precisión en validación:** 0.2962\n",
    "\n",
    "**Análisis:**\n",
    "El modelo VGG16 muestra una ligera mejora respecto a la precisión inicial del 20%, alcanzando una precisión de 29.62%. Sin embargo, esta precisión sigue siendo bastante baja. La alta pérdida de validación sugiere que el modelo podría estar experimentando problemas de sobreajuste o subajuste. A pesar de la augmentación, el rendimiento del modelo sigue siendo insatisfactorio, lo que podría indicar que el modelo no se ha beneficiado adecuadamente del transfer learning debido a la congelación de las capas del VGG16 o a la falta de entrenamiento adicional.\n",
    "\n",
    "## CNN\n",
    "\n",
    "**Resultados:**\n",
    "- **Pérdida en validación:** 0.2132\n",
    "- **Precisión en validación:** 0.9253\n",
    "\n",
    "**Análisis:**\n",
    "El modelo CNN muestra un rendimiento sólido con una precisión de validación del 92.53%. La pérdida de validación relativamente baja indica que el modelo está generalizando bien a los datos de validación. El uso de augmentación parece haber mejorado el rendimiento del modelo en comparación con la versión anterior sin augmentación, destacándose como una opción efectiva para la clasificación de imágenes en este caso.\n",
    "\n",
    "## SVM\n",
    "\n",
    "**Resultados:**\n",
    "- **Precisión del modelo SVM con kernel Gaussiano:** 0.76\n",
    "\n",
    "**Análisis:**\n",
    "El modelo SVM con kernel Gaussiano ha mostrado una precisión de 76%, lo que representa una mejora considerable en comparación con la precisión inicial. La augmentación de imágenes, combinada con el escalado adecuado de datos, ha contribuido positivamente al rendimiento del SVM. Aunque la precisión es menor que la del modelo CNN, el SVM sigue siendo un competidor sólido en términos de rendimiento.\n",
    "\n",
    "## Conclusión\n",
    "\n",
    "Entre los modelos reentrenados con augmentación, el **CNN** sigue siendo el mejor en términos de precisión de validación, alcanzando un 92.53%. La **SVM** también muestra un buen rendimiento con un 76%, pero no alcanza la precisión del CNN. El **VGG16** no ha mejorado significativamente y sigue siendo el modelo con peor desempeño. Por lo tanto, el **CNN** es el modelo preferido para la clasificación de imágenes en este caso."
   ]
  },
  {
   "cell_type": "markdown",
   "metadata": {},
   "source": [
    "# Predicción con imagenes hechas a mano"
   ]
  }
 ],
 "metadata": {
  "kernelspec": {
   "display_name": "Python 3",
   "language": "python",
   "name": "python3"
  },
  "language_info": {
   "codemirror_mode": {
    "name": "ipython",
    "version": 3
   },
   "file_extension": ".py",
   "mimetype": "text/x-python",
   "name": "python",
   "nbconvert_exporter": "python",
   "pygments_lexer": "ipython3",
   "version": "3.8.15"
  }
 },
 "nbformat": 4,
 "nbformat_minor": 2
}
